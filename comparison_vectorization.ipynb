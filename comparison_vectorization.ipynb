{
 "cells": [
  {
   "cell_type": "code",
   "execution_count": 1,
   "id": "1a0c96a0",
   "metadata": {},
   "outputs": [],
   "source": [
    "import numpy as np\n",
    "import datetime as dt\n",
    "import pandas as pd"
   ]
  },
  {
   "cell_type": "code",
   "execution_count": 2,
   "id": "aaeebecc",
   "metadata": {},
   "outputs": [],
   "source": [
    "df = pd.read_excel(\"/Users/administrador/Downloads/novo_excel_HOBO_UNIFICADA_27.10.2022.xlsx\")"
   ]
  },
  {
   "cell_type": "code",
   "execution_count": 3,
   "id": "0d244a99",
   "metadata": {},
   "outputs": [],
   "source": [
    "#formatando nome de coluna\n",
    "df.rename(columns={'Sítio': 'sitio', 'Temp (ºC)': 'temp', 'Int Lum (lux)': 'int_lum_lux',\n",
    "                'Unidade Hobo': 'unidade_hobo','Hora': 'hora', 'formatted': 'data'}, inplace = True)"
   ]
  },
  {
   "cell_type": "code",
   "execution_count": 4,
   "id": "7789bb8a",
   "metadata": {},
   "outputs": [],
   "source": [
    "#tirando a colunas desnecessárias\n",
    "df.drop(columns = ['Unnamed: 0', 'Data', 'Mês', 'Ano'], inplace = True)"
   ]
  },
  {
   "cell_type": "code",
   "execution_count": 5,
   "id": "edca31db",
   "metadata": {},
   "outputs": [],
   "source": [
    "#criando uma copia do df para comparar os métodos\n",
    "df2 = df"
   ]
  },
  {
   "cell_type": "code",
   "execution_count": 6,
   "id": "5142d450",
   "metadata": {},
   "outputs": [
    {
     "name": "stdout",
     "output_type": "stream",
     "text": [
      "1min 16s ± 1.85 s per loop (mean ± std. dev. of 7 runs, 1 loop each)\n"
     ]
    }
   ],
   "source": [
    "%%timeit\n",
    "#criando funcão para identificar o tipo de dado de hora aplicar a substituicao correta\n",
    "def corrigir_hora(registro):\n",
    "    \n",
    "    ''''DESCRIÇÃO: como são vários tipos de dados e formatos dentro da coluna hora, serão feitos testes para\n",
    "    verificar o tipo de dado da linha e aplicar as transformacões adequadas para que tudo seja padronizado'''\n",
    "    \n",
    "    #primeiro caso: int ou float. Significa que há problema no dado, então será colocado um marcador pra isso\n",
    "    if type(registro) == int or type(registro) == float:\n",
    "         return np.nan\n",
    "    \n",
    "    #segundo caso: string\n",
    "    elif type(registro) == str:\n",
    "        #como alguns horarios menores que 10 que não possuem o zero no início (e.g: 7:56) o zfill corrige isso\n",
    "        registro.zfill(5)\n",
    "        \n",
    "        #adicionar os segundos para as linhas que não os possuem\n",
    "        if len(registro) < 6:\n",
    "            registro = registro + ':00'\n",
    "        else:\n",
    "            pass\n",
    "        \n",
    "        #convertendo enfim para time\n",
    "        return pd.to_datetime(registro, format='%H:%M:%S').time()\n",
    "        \n",
    "    #terceiro caso: datetime. da para converter direto para time (por algum motivo precisa do pd.to_datetime)\n",
    "    else:\n",
    "        return pd.to_datetime(registro, format='%H:%M:%S').time()\n",
    "    \n",
    "#aplicando a função corrigir_hora\n",
    "df.loc[:, 'hora_corrigida'] = df.loc[:, 'hora'].map(corrigir_hora)\n",
    "\n",
    "#convertando data de volta a date para que a próxima parte possa funcionar\n",
    "df['data'] = pd.to_datetime(df['data'], format='%Y-%m-%d').dt.date\n",
    "\n",
    "#converter tudo de volta pra string nao parece o jeito mais prático, mas é o que tem pra agora\n",
    "df.loc[:, 'datetime'] = np.where(df.hora_corrigida != df.hora_corrigida,\n",
    "                                     np.nan, df['data'].astype(str) + ' ' + df['hora_corrigida'].astype(str))\n",
    "\n",
    "#por fim colocando tudo de volta pra datetime\n",
    "df.loc[:, 'datetime'] = pd.to_datetime(df.loc[:, 'datetime'], format='%Y-%m-%d %H:%M:%S')"
   ]
  },
  {
   "cell_type": "code",
   "execution_count": 7,
   "id": "4f0237e9",
   "metadata": {},
   "outputs": [
    {
     "name": "stdout",
     "output_type": "stream",
     "text": [
      "1.04 s ± 7.42 ms per loop (mean ± std. dev. of 7 runs, 1 loop each)\n"
     ]
    }
   ],
   "source": [
    "%%timeit\n",
    "#Definindo as funções\n",
    "def numerico(registro):\n",
    "    \n",
    "    '''foi visto antes que valores numéricos para coluna de hora não são válidos'''\n",
    "    \n",
    "    if type(registro) == int or type(registro) == float:\n",
    "        return '1900-01-01 00:00:00' #designei uma string para indicar erro, ano 1900!!\n",
    "    else:\n",
    "        return registro\n",
    "    \n",
    "def normalize_str(registro):\n",
    "    \n",
    "    '''Padronizando o tamanho das strings'''\n",
    "    \n",
    "    #colocando os segundos quando estes estão ausentes\n",
    "    if len(registro) < 6:\n",
    "        return registro + ':00'\n",
    "    \n",
    "    #quando a linha na coluna de hora está com data\n",
    "    elif len(registro) > 15:\n",
    "        return registro[11:] #cortando fora a parte de date e ficando com time\n",
    "    \n",
    "    else:\n",
    "        return registro\n",
    "\n",
    "#Chamando função para lidar com dados numericos\n",
    "df2.loc[:, 'hora'] = df2.loc[:, 'hora'].map(numerico)\n",
    "\n",
    "#convertando todo mundo para str\n",
    "df2.hora = df2.hora.astype(str)\n",
    "\n",
    "#zero filling- padronizando a hora pra ficar sempre com 2 algarismos (e.g. 7:50 > 07:50)\n",
    "df2.hora.str.zfill(5)\n",
    "\n",
    "#Chamando função para padronizar as strings\n",
    "df2.loc[:, 'hora'] = df2.loc[:, 'hora'].map(normalize_str)\n",
    "\n",
    "#algumas linhas de data tem o horario tbm -> ficando então só com a data\n",
    "df2['data'] = pd.to_datetime(df2['data'], format='%Y-%m-%d').dt.date\n",
    "\n",
    "#Formando a coluna datetime juntando date com time\n",
    "df2.loc[:, 'datetime'] = df2['data'].astype(str) + ' ' + df2['hora']\n",
    "\n",
    "#Convertando para o formato datetime\n",
    "df2.loc[:, 'datetime'] =  pd.to_datetime(df2.datetime, format='%Y-%m-%d %H:%M:%S')\n",
    "\n",
    "#Coloando np.nan nas medições inválidas que eu tinha marcado anteriomente como sendo de 19000\n",
    "df2.loc[:, 'datetime'] = df2['datetime'].where(df2.datetime > '2000-01-01 00:00:00', np.nan)"
   ]
  },
  {
   "cell_type": "code",
   "execution_count": 8,
   "id": "5868a8cb",
   "metadata": {},
   "outputs": [
    {
     "name": "stdout",
     "output_type": "stream",
     "text": [
      "True\n"
     ]
    }
   ],
   "source": [
    "#conferindo se ambos procedimentos geraram o mesmo resultado\n",
    "teste = df.datetime.equals(df2.datetime)\n",
    "print(teste)"
   ]
  }
 ],
 "metadata": {
  "kernelspec": {
   "display_name": "Python 3 (ipykernel)",
   "language": "python",
   "name": "python3"
  },
  "language_info": {
   "codemirror_mode": {
    "name": "ipython",
    "version": 3
   },
   "file_extension": ".py",
   "mimetype": "text/x-python",
   "name": "python",
   "nbconvert_exporter": "python",
   "pygments_lexer": "ipython3",
   "version": "3.9.13"
  }
 },
 "nbformat": 4,
 "nbformat_minor": 5
}
